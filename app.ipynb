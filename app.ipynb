{
 "cells": [
  {
   "cell_type": "code",
   "execution_count": 1,
   "metadata": {},
   "outputs": [],
   "source": [
    "import pandas as pd"
   ]
  },
  {
   "cell_type": "code",
   "execution_count": 2,
   "metadata": {},
   "outputs": [],
   "source": [
    "df=pd.read_csv(\"updated_dataframe.csv\",)"
   ]
  },
  {
   "cell_type": "code",
   "execution_count": 3,
   "metadata": {},
   "outputs": [
    {
     "data": {
      "text/html": [
       "<div>\n",
       "<style scoped>\n",
       "    .dataframe tbody tr th:only-of-type {\n",
       "        vertical-align: middle;\n",
       "    }\n",
       "\n",
       "    .dataframe tbody tr th {\n",
       "        vertical-align: top;\n",
       "    }\n",
       "\n",
       "    .dataframe thead th {\n",
       "        text-align: right;\n",
       "    }\n",
       "</style>\n",
       "<table border=\"1\" class=\"dataframe\">\n",
       "  <thead>\n",
       "    <tr style=\"text-align: right;\">\n",
       "      <th></th>\n",
       "      <th>waste_smc</th>\n",
       "      <th>msw_rec</th>\n",
       "      <th>dig_feed</th>\n",
       "      <th>dig_feed_1</th>\n",
       "      <th>disposal_A</th>\n",
       "      <th>disposal_B</th>\n",
       "      <th>dig_press</th>\n",
       "      <th>dig_level</th>\n",
       "      <th>balloon_a</th>\n",
       "      <th>balloon_b</th>\n",
       "      <th>...</th>\n",
       "      <th>digester_disposal_VA</th>\n",
       "      <th>digester_disposal_EC</th>\n",
       "      <th>digester_disposal_temp</th>\n",
       "      <th>digester_disposal_TOC</th>\n",
       "      <th>biogas_Digester_B_Outlet_Methane%</th>\n",
       "      <th>biogas_Digester_B_Outlet_MH2S(ppm)</th>\n",
       "      <th>biogas_Clean_Biogas_Methane%</th>\n",
       "      <th>biogas_Clean_Biogas_MH2S(ppm)</th>\n",
       "      <th>biogas_Dosing_pH</th>\n",
       "      <th>biogas_Scrubber_pH</th>\n",
       "    </tr>\n",
       "  </thead>\n",
       "  <tbody>\n",
       "    <tr>\n",
       "      <th>count</th>\n",
       "      <td>718.000000</td>\n",
       "      <td>718.000000</td>\n",
       "      <td>718.0</td>\n",
       "      <td>718.000000</td>\n",
       "      <td>718.0</td>\n",
       "      <td>718.000000</td>\n",
       "      <td>718.0</td>\n",
       "      <td>718.000000</td>\n",
       "      <td>718.000000</td>\n",
       "      <td>718.000000</td>\n",
       "      <td>...</td>\n",
       "      <td>718.000000</td>\n",
       "      <td>718.000000</td>\n",
       "      <td>718.000000</td>\n",
       "      <td>718.000000</td>\n",
       "      <td>718.00000</td>\n",
       "      <td>718.000000</td>\n",
       "      <td>718.000000</td>\n",
       "      <td>718.000000</td>\n",
       "      <td>718.000000</td>\n",
       "      <td>718.000000</td>\n",
       "    </tr>\n",
       "    <tr>\n",
       "      <th>mean</th>\n",
       "      <td>240.227838</td>\n",
       "      <td>240.227845</td>\n",
       "      <td>0.0</td>\n",
       "      <td>26.176776</td>\n",
       "      <td>0.0</td>\n",
       "      <td>12.764376</td>\n",
       "      <td>0.0</td>\n",
       "      <td>15.445000</td>\n",
       "      <td>0.403773</td>\n",
       "      <td>0.387047</td>\n",
       "      <td>...</td>\n",
       "      <td>0.408690</td>\n",
       "      <td>12.950118</td>\n",
       "      <td>29.840345</td>\n",
       "      <td>2.556304</td>\n",
       "      <td>64.26000</td>\n",
       "      <td>549.009901</td>\n",
       "      <td>65.874194</td>\n",
       "      <td>340.449438</td>\n",
       "      <td>13.277108</td>\n",
       "      <td>9.988095</td>\n",
       "    </tr>\n",
       "    <tr>\n",
       "      <th>std</th>\n",
       "      <td>32.103047</td>\n",
       "      <td>32.103042</td>\n",
       "      <td>0.0</td>\n",
       "      <td>17.349971</td>\n",
       "      <td>0.0</td>\n",
       "      <td>29.274405</td>\n",
       "      <td>0.0</td>\n",
       "      <td>0.031953</td>\n",
       "      <td>0.355820</td>\n",
       "      <td>0.270207</td>\n",
       "      <td>...</td>\n",
       "      <td>0.078701</td>\n",
       "      <td>1.007866</td>\n",
       "      <td>0.919373</td>\n",
       "      <td>0.284283</td>\n",
       "      <td>1.65647</td>\n",
       "      <td>143.403547</td>\n",
       "      <td>1.821373</td>\n",
       "      <td>160.667905</td>\n",
       "      <td>0.464390</td>\n",
       "      <td>1.033589</td>\n",
       "    </tr>\n",
       "    <tr>\n",
       "      <th>min</th>\n",
       "      <td>44.430000</td>\n",
       "      <td>44.430000</td>\n",
       "      <td>0.0</td>\n",
       "      <td>0.000000</td>\n",
       "      <td>0.0</td>\n",
       "      <td>0.000000</td>\n",
       "      <td>0.0</td>\n",
       "      <td>14.840000</td>\n",
       "      <td>0.000000</td>\n",
       "      <td>0.000000</td>\n",
       "      <td>...</td>\n",
       "      <td>0.170000</td>\n",
       "      <td>7.500000</td>\n",
       "      <td>11.510000</td>\n",
       "      <td>0.990000</td>\n",
       "      <td>55.30000</td>\n",
       "      <td>0.000000</td>\n",
       "      <td>54.400000</td>\n",
       "      <td>0.000000</td>\n",
       "      <td>8.000000</td>\n",
       "      <td>7.000000</td>\n",
       "    </tr>\n",
       "    <tr>\n",
       "      <th>25%</th>\n",
       "      <td>223.731250</td>\n",
       "      <td>223.731250</td>\n",
       "      <td>0.0</td>\n",
       "      <td>13.412500</td>\n",
       "      <td>0.0</td>\n",
       "      <td>0.000000</td>\n",
       "      <td>0.0</td>\n",
       "      <td>15.445000</td>\n",
       "      <td>0.050000</td>\n",
       "      <td>0.150000</td>\n",
       "      <td>...</td>\n",
       "      <td>0.408690</td>\n",
       "      <td>12.950118</td>\n",
       "      <td>29.840345</td>\n",
       "      <td>2.556304</td>\n",
       "      <td>64.26000</td>\n",
       "      <td>549.009901</td>\n",
       "      <td>65.874194</td>\n",
       "      <td>340.449438</td>\n",
       "      <td>13.277108</td>\n",
       "      <td>9.988095</td>\n",
       "    </tr>\n",
       "    <tr>\n",
       "      <th>50%</th>\n",
       "      <td>241.595000</td>\n",
       "      <td>241.595000</td>\n",
       "      <td>0.0</td>\n",
       "      <td>24.990000</td>\n",
       "      <td>0.0</td>\n",
       "      <td>0.000000</td>\n",
       "      <td>0.0</td>\n",
       "      <td>15.445000</td>\n",
       "      <td>0.300000</td>\n",
       "      <td>0.350000</td>\n",
       "      <td>...</td>\n",
       "      <td>0.408690</td>\n",
       "      <td>12.950118</td>\n",
       "      <td>29.840345</td>\n",
       "      <td>2.556304</td>\n",
       "      <td>64.26000</td>\n",
       "      <td>549.009901</td>\n",
       "      <td>65.874194</td>\n",
       "      <td>340.449438</td>\n",
       "      <td>13.277108</td>\n",
       "      <td>9.988095</td>\n",
       "    </tr>\n",
       "    <tr>\n",
       "      <th>75%</th>\n",
       "      <td>259.670000</td>\n",
       "      <td>259.670000</td>\n",
       "      <td>0.0</td>\n",
       "      <td>36.110000</td>\n",
       "      <td>0.0</td>\n",
       "      <td>20.000000</td>\n",
       "      <td>0.0</td>\n",
       "      <td>15.445000</td>\n",
       "      <td>0.800000</td>\n",
       "      <td>0.600000</td>\n",
       "      <td>...</td>\n",
       "      <td>0.408690</td>\n",
       "      <td>12.950118</td>\n",
       "      <td>29.840345</td>\n",
       "      <td>2.556304</td>\n",
       "      <td>64.26000</td>\n",
       "      <td>549.009901</td>\n",
       "      <td>65.874194</td>\n",
       "      <td>340.449438</td>\n",
       "      <td>13.277108</td>\n",
       "      <td>9.988095</td>\n",
       "    </tr>\n",
       "    <tr>\n",
       "      <th>max</th>\n",
       "      <td>362.535000</td>\n",
       "      <td>362.535000</td>\n",
       "      <td>0.0</td>\n",
       "      <td>84.880000</td>\n",
       "      <td>0.0</td>\n",
       "      <td>220.000000</td>\n",
       "      <td>0.0</td>\n",
       "      <td>16.050000</td>\n",
       "      <td>0.950000</td>\n",
       "      <td>0.950000</td>\n",
       "      <td>...</td>\n",
       "      <td>1.300000</td>\n",
       "      <td>30.500000</td>\n",
       "      <td>35.000000</td>\n",
       "      <td>6.840000</td>\n",
       "      <td>72.40000</td>\n",
       "      <td>1900.000000</td>\n",
       "      <td>85.800000</td>\n",
       "      <td>1800.000000</td>\n",
       "      <td>14.000000</td>\n",
       "      <td>14.000000</td>\n",
       "    </tr>\n",
       "  </tbody>\n",
       "</table>\n",
       "<p>8 rows × 60 columns</p>\n",
       "</div>"
      ],
      "text/plain": [
       "        waste_smc     msw_rec  dig_feed  dig_feed_1  disposal_A  disposal_B  \\\n",
       "count  718.000000  718.000000     718.0  718.000000       718.0  718.000000   \n",
       "mean   240.227838  240.227845       0.0   26.176776         0.0   12.764376   \n",
       "std     32.103047   32.103042       0.0   17.349971         0.0   29.274405   \n",
       "min     44.430000   44.430000       0.0    0.000000         0.0    0.000000   \n",
       "25%    223.731250  223.731250       0.0   13.412500         0.0    0.000000   \n",
       "50%    241.595000  241.595000       0.0   24.990000         0.0    0.000000   \n",
       "75%    259.670000  259.670000       0.0   36.110000         0.0   20.000000   \n",
       "max    362.535000  362.535000       0.0   84.880000         0.0  220.000000   \n",
       "\n",
       "       dig_press   dig_level   balloon_a   balloon_b  ...  \\\n",
       "count      718.0  718.000000  718.000000  718.000000  ...   \n",
       "mean         0.0   15.445000    0.403773    0.387047  ...   \n",
       "std          0.0    0.031953    0.355820    0.270207  ...   \n",
       "min          0.0   14.840000    0.000000    0.000000  ...   \n",
       "25%          0.0   15.445000    0.050000    0.150000  ...   \n",
       "50%          0.0   15.445000    0.300000    0.350000  ...   \n",
       "75%          0.0   15.445000    0.800000    0.600000  ...   \n",
       "max          0.0   16.050000    0.950000    0.950000  ...   \n",
       "\n",
       "       digester_disposal_VA  digester_disposal_EC  digester_disposal_temp  \\\n",
       "count            718.000000            718.000000              718.000000   \n",
       "mean               0.408690             12.950118               29.840345   \n",
       "std                0.078701              1.007866                0.919373   \n",
       "min                0.170000              7.500000               11.510000   \n",
       "25%                0.408690             12.950118               29.840345   \n",
       "50%                0.408690             12.950118               29.840345   \n",
       "75%                0.408690             12.950118               29.840345   \n",
       "max                1.300000             30.500000               35.000000   \n",
       "\n",
       "       digester_disposal_TOC  biogas_Digester_B_Outlet_Methane%   \\\n",
       "count             718.000000                           718.00000   \n",
       "mean                2.556304                            64.26000   \n",
       "std                 0.284283                             1.65647   \n",
       "min                 0.990000                            55.30000   \n",
       "25%                 2.556304                            64.26000   \n",
       "50%                 2.556304                            64.26000   \n",
       "75%                 2.556304                            64.26000   \n",
       "max                 6.840000                            72.40000   \n",
       "\n",
       "       biogas_Digester_B_Outlet_MH2S(ppm)  biogas_Clean_Biogas_Methane%  \\\n",
       "count                          718.000000                    718.000000   \n",
       "mean                           549.009901                     65.874194   \n",
       "std                            143.403547                      1.821373   \n",
       "min                              0.000000                     54.400000   \n",
       "25%                            549.009901                     65.874194   \n",
       "50%                            549.009901                     65.874194   \n",
       "75%                            549.009901                     65.874194   \n",
       "max                           1900.000000                     85.800000   \n",
       "\n",
       "       biogas_Clean_Biogas_MH2S(ppm)  biogas_Dosing_pH  biogas_Scrubber_pH  \n",
       "count                     718.000000        718.000000          718.000000  \n",
       "mean                      340.449438         13.277108            9.988095  \n",
       "std                       160.667905          0.464390            1.033589  \n",
       "min                         0.000000          8.000000            7.000000  \n",
       "25%                       340.449438         13.277108            9.988095  \n",
       "50%                       340.449438         13.277108            9.988095  \n",
       "75%                       340.449438         13.277108            9.988095  \n",
       "max                      1800.000000         14.000000           14.000000  \n",
       "\n",
       "[8 rows x 60 columns]"
      ]
     },
     "execution_count": 3,
     "metadata": {},
     "output_type": "execute_result"
    }
   ],
   "source": [
    "df.describe()"
   ]
  },
  {
   "cell_type": "code",
   "execution_count": 4,
   "metadata": {},
   "outputs": [],
   "source": [
    "df.rename(columns={'digester_feed_cod': 'digester_feed_COD'}, inplace=True)\n",
    "df.rename(columns={'digester_disposal_temp': 'digester_disposal_Temp'}, inplace=True)\n",
    "df.rename(columns={'biogas_Digester_B_Outlet_Methane% ': 'biogas_clean_Methane%'}, inplace=True)\n",
    "df.rename(columns={'biogas_Digester_B_Outlet_MH2S(ppm)': 'biogas_clean_H2S(ppm)'}, inplace=True)\n",
    "df.rename(columns={'biogas_Clean_Biogas_Methane%': 'biogas_clean_Clean Biogas Methane%'}, inplace=True)\n",
    "df.rename(columns={'biogas_Clean_Biogas_MH2S(ppm)': 'biogas_clean_Clean Biogas H2S(ppm)'}, inplace=True)\n",
    "df.rename(columns={'biogas_Dosing_pH': 'biogas_clean_Dosing pH'}, inplace=True)\n",
    "df.rename(columns={'biogas_Scrubber_pH': 'biogas_clean_Scrubber pH'}, inplace=True)\n",
    "df.rename(columns={'digester_recycle_temp': 'digester_recycle_Temp'}, inplace=True)"
   ]
  },
  {
   "cell_type": "code",
   "execution_count": 5,
   "metadata": {},
   "outputs": [],
   "source": [
    "df.to_csv('new_biogas_dataframe.csv')"
   ]
  },
  {
   "cell_type": "code",
   "execution_count": 4,
   "metadata": {},
   "outputs": [],
   "source": [
    "input_f=[\n",
    "        'waste_smc', 'msw_rec', 'dig_feed', 'dig_feed_1', 'disposal_A',\n",
    "        'disposal_B', 'dig_press', 'dig_level', 'balloon_a', 'balloon_b',\n",
    "        'engine_running_hrs', 'total_power_gene', 'export_power',\n",
    "        'gas_consumption', 'sfc', 'raw_msw_TS', 'raw_msw_VS', 'raw_msw_MC',\n",
    "        'ac_02_TS', 'ac_02_VS', 'ac_02_MC', 'ac_02_sand', 'ac_02_CN',\n",
    "        'ac_02_cod'\n",
    "    ]"
   ]
  },
  {
   "cell_type": "code",
   "execution_count": 5,
   "metadata": {},
   "outputs": [
    {
     "data": {
      "text/plain": [
       "24"
      ]
     },
     "execution_count": 5,
     "metadata": {},
     "output_type": "execute_result"
    }
   ],
   "source": [
    "len(input_f)"
   ]
  },
  {
   "cell_type": "code",
   "execution_count": 6,
   "metadata": {},
   "outputs": [],
   "source": [
    "# dataframe=df[\n",
    "# ]"
   ]
  },
  {
   "cell_type": "code",
   "execution_count": 7,
   "metadata": {},
   "outputs": [
    {
     "name": "stderr",
     "output_type": "stream",
     "text": [
      "c:\\Users\\Linus Computers\\AppData\\Local\\Programs\\Python\\Python313\\Lib\\site-packages\\xgboost\\core.py:158: UserWarning: [12:37:36] WARNING: C:\\buildkite-agent\\builds\\buildkite-windows-cpu-autoscaling-group-i-08cbc0333d8d4aae1-1\\xgboost\\xgboost-ci-windows\\src\\data\\../common/error_msg.h:80: If you are loading a serialized model (like pickle in Python, RDS in R) or\n",
      "configuration generated by an older version of XGBoost, please export the model by calling\n",
      "`Booster.save_model` from that version first, then load it back in current version. See:\n",
      "\n",
      "    https://xgboost.readthedocs.io/en/stable/tutorials/saving_model.html\n",
      "\n",
      "for more details about differences between saving model and serializing.\n",
      "\n",
      "  warnings.warn(smsg, UserWarning)\n"
     ]
    }
   ],
   "source": [
    "import pickle\n",
    "model = pickle.load(open('new_best_model_XGBoost.pkl', 'rb'))"
   ]
  },
  {
   "cell_type": "code",
   "execution_count": 8,
   "metadata": {},
   "outputs": [
    {
     "name": "stdout",
     "output_type": "stream",
     "text": [
      "Independent Features (Inputs): ['waste_smc' 'msw_rec' 'dig_feed' 'dig_feed_1' 'disposal_A' 'disposal_B'\n",
      " 'dig_press' 'dig_level' 'balloon_a' 'balloon_b' 'engine_running_hrs'\n",
      " 'total_power_gene' 'export_power' 'gas_consumption' 'sfc' 'raw_msw_TS'\n",
      " 'raw_msw_VS' 'raw_msw_MC' 'ac_02_TS' 'ac_02_VS' 'ac_02_MC' 'ac_02_sand'\n",
      " 'ac_02_CN' 'ac_02_cod']\n",
      "total number of feature: 24\n"
     ]
    }
   ],
   "source": [
    "if hasattr(model, \"feature_names_in_\"):\n",
    "    independent_features = model.feature_names_in_\n",
    "    print(\"Independent Features (Inputs):\", independent_features)\n",
    "    print(\"total number of feature:\",len(independent_features))\n",
    "\n",
    "# Check target feature (Available in some models)\n",
    "if hasattr(model, \"target_name\"):\n",
    "    dependent_feature = model.target_name\n",
    "    print(\"Dependent Feature (Target):\", dependent_feature)"
   ]
  },
  {
   "cell_type": "code",
   "execution_count": 9,
   "metadata": {},
   "outputs": [
    {
     "name": "stdout",
     "output_type": "stream",
     "text": [
      "Target feature name not found in the model.\n"
     ]
    }
   ],
   "source": [
    "if hasattr(model, \"target_name\"):\n",
    "    print(\"Dependent Feature (Target):\", model.target_name)\n",
    "else:\n",
    "    print(\"Target feature name not found in the model.\")"
   ]
  },
  {
   "cell_type": "code",
   "execution_count": 10,
   "metadata": {},
   "outputs": [],
   "source": [
    "Y = df.drop(columns=input_f)  \n"
   ]
  },
  {
   "cell_type": "code",
   "execution_count": 11,
   "metadata": {},
   "outputs": [
    {
     "data": {
      "text/html": [
       "<div>\n",
       "<style scoped>\n",
       "    .dataframe tbody tr th:only-of-type {\n",
       "        vertical-align: middle;\n",
       "    }\n",
       "\n",
       "    .dataframe tbody tr th {\n",
       "        vertical-align: top;\n",
       "    }\n",
       "\n",
       "    .dataframe thead th {\n",
       "        text-align: right;\n",
       "    }\n",
       "</style>\n",
       "<table border=\"1\" class=\"dataframe\">\n",
       "  <thead>\n",
       "    <tr style=\"text-align: right;\">\n",
       "      <th></th>\n",
       "      <th>date</th>\n",
       "      <th>digester_feed_TS</th>\n",
       "      <th>digester_feed_VS</th>\n",
       "      <th>digester_feed_MC</th>\n",
       "      <th>digester_feed_PH</th>\n",
       "      <th>digester_feed_VFA</th>\n",
       "      <th>digester_feed_ALK</th>\n",
       "      <th>digester_feed_VA</th>\n",
       "      <th>digester_feed_EC</th>\n",
       "      <th>digester_feed_Temp</th>\n",
       "      <th>...</th>\n",
       "      <th>digester_disposal_VA</th>\n",
       "      <th>digester_disposal_EC</th>\n",
       "      <th>digester_disposal_temp</th>\n",
       "      <th>digester_disposal_TOC</th>\n",
       "      <th>biogas_Digester_B_Outlet_Methane%</th>\n",
       "      <th>biogas_Digester_B_Outlet_MH2S(ppm)</th>\n",
       "      <th>biogas_Clean_Biogas_Methane%</th>\n",
       "      <th>biogas_Clean_Biogas_MH2S(ppm)</th>\n",
       "      <th>biogas_Dosing_pH</th>\n",
       "      <th>biogas_Scrubber_pH</th>\n",
       "    </tr>\n",
       "  </thead>\n",
       "  <tbody>\n",
       "    <tr>\n",
       "      <th>0</th>\n",
       "      <td>2022-03-01</td>\n",
       "      <td>8.56204</td>\n",
       "      <td>4.955676</td>\n",
       "      <td>91.438017</td>\n",
       "      <td>6.866972</td>\n",
       "      <td>2754.438547</td>\n",
       "      <td>5293.027374</td>\n",
       "      <td>0.516648</td>\n",
       "      <td>12.972478</td>\n",
       "      <td>30.325556</td>\n",
       "      <td>...</td>\n",
       "      <td>0.40869</td>\n",
       "      <td>12.950118</td>\n",
       "      <td>29.840345</td>\n",
       "      <td>2.556304</td>\n",
       "      <td>64.26</td>\n",
       "      <td>549.009901</td>\n",
       "      <td>65.874194</td>\n",
       "      <td>340.449438</td>\n",
       "      <td>13.277108</td>\n",
       "      <td>9.988095</td>\n",
       "    </tr>\n",
       "    <tr>\n",
       "      <th>1</th>\n",
       "      <td>2022-03-02</td>\n",
       "      <td>8.76000</td>\n",
       "      <td>4.900000</td>\n",
       "      <td>91.240000</td>\n",
       "      <td>6.970000</td>\n",
       "      <td>1605.000000</td>\n",
       "      <td>4878.000000</td>\n",
       "      <td>0.330000</td>\n",
       "      <td>9.340000</td>\n",
       "      <td>27.700000</td>\n",
       "      <td>...</td>\n",
       "      <td>0.40869</td>\n",
       "      <td>12.950118</td>\n",
       "      <td>29.840345</td>\n",
       "      <td>2.556304</td>\n",
       "      <td>64.26</td>\n",
       "      <td>1000.000000</td>\n",
       "      <td>65.874194</td>\n",
       "      <td>700.000000</td>\n",
       "      <td>13.277108</td>\n",
       "      <td>9.988095</td>\n",
       "    </tr>\n",
       "  </tbody>\n",
       "</table>\n",
       "<p>2 rows × 37 columns</p>\n",
       "</div>"
      ],
      "text/plain": [
       "         date  digester_feed_TS  digester_feed_VS  digester_feed_MC  \\\n",
       "0  2022-03-01           8.56204          4.955676         91.438017   \n",
       "1  2022-03-02           8.76000          4.900000         91.240000   \n",
       "\n",
       "   digester_feed_PH  digester_feed_VFA  digester_feed_ALK  digester_feed_VA  \\\n",
       "0          6.866972        2754.438547        5293.027374          0.516648   \n",
       "1          6.970000        1605.000000        4878.000000          0.330000   \n",
       "\n",
       "   digester_feed_EC  digester_feed_Temp  ...  digester_disposal_VA  \\\n",
       "0         12.972478           30.325556  ...               0.40869   \n",
       "1          9.340000           27.700000  ...               0.40869   \n",
       "\n",
       "   digester_disposal_EC  digester_disposal_temp  digester_disposal_TOC  \\\n",
       "0             12.950118               29.840345               2.556304   \n",
       "1             12.950118               29.840345               2.556304   \n",
       "\n",
       "   biogas_Digester_B_Outlet_Methane%   biogas_Digester_B_Outlet_MH2S(ppm)  \\\n",
       "0                               64.26                          549.009901   \n",
       "1                               64.26                         1000.000000   \n",
       "\n",
       "   biogas_Clean_Biogas_Methane%  biogas_Clean_Biogas_MH2S(ppm)  \\\n",
       "0                     65.874194                     340.449438   \n",
       "1                     65.874194                     700.000000   \n",
       "\n",
       "   biogas_Dosing_pH  biogas_Scrubber_pH  \n",
       "0         13.277108            9.988095  \n",
       "1         13.277108            9.988095  \n",
       "\n",
       "[2 rows x 37 columns]"
      ]
     },
     "execution_count": 11,
     "metadata": {},
     "output_type": "execute_result"
    }
   ],
   "source": [
    "Y.head(2)"
   ]
  },
  {
   "cell_type": "code",
   "execution_count": 12,
   "metadata": {},
   "outputs": [
    {
     "data": {
      "text/plain": [
       "Index(['date', 'digester_feed_TS', 'digester_feed_VS', 'digester_feed_MC',\n",
       "       'digester_feed_PH', 'digester_feed_VFA', 'digester_feed_ALK',\n",
       "       'digester_feed_VA', 'digester_feed_EC', 'digester_feed_Temp',\n",
       "       'digester_feed_cod', 'digester_recycle_TS', 'digester_recycle_VS',\n",
       "       'digester_recycle_MC', 'digester_recycle_PH', 'digester_recycle_VFA',\n",
       "       'digester_recycle_ALK', 'digester_recycle_VA', 'digester_recycle_EC',\n",
       "       'digester_recycle_temp', 'digester_recycle_TOC', 'digester_disposal_TS',\n",
       "       'digester_disposal_VS', 'digester_disposal_MC', 'digester_disposal_PH',\n",
       "       'digester_disposal_VFA', 'digester_disposal_ALK',\n",
       "       'digester_disposal_VA', 'digester_disposal_EC',\n",
       "       'digester_disposal_temp', 'digester_disposal_TOC',\n",
       "       'biogas_Digester_B_Outlet_Methane% ',\n",
       "       'biogas_Digester_B_Outlet_MH2S(ppm)', 'biogas_Clean_Biogas_Methane%',\n",
       "       'biogas_Clean_Biogas_MH2S(ppm)', 'biogas_Dosing_pH',\n",
       "       'biogas_Scrubber_pH'],\n",
       "      dtype='object')"
      ]
     },
     "execution_count": 12,
     "metadata": {},
     "output_type": "execute_result"
    }
   ],
   "source": [
    "Y.columns"
   ]
  },
  {
   "cell_type": "code",
   "execution_count": null,
   "metadata": {},
   "outputs": [],
   "source": []
  },
  {
   "cell_type": "code",
   "execution_count": null,
   "metadata": {},
   "outputs": [],
   "source": [
    "# Function to get values by date\n",
    "def get_values_by_date(df, date):\n",
    "    required_columns = [\n",
    "        'waste_smc', 'msw_rec', 'dig_feed', 'dig_feed_1', 'disposal_A',\n",
    "        'disposal_B', 'dig_press', 'dig_level', 'balloon_a', 'balloon_b',\n",
    "        'engine_running_hrs', 'total_power_gene', 'export_power',\n",
    "        'gas_consumption', 'sfc', 'raw_msw_TS', 'raw_msw_VS', 'raw_msw_MC',\n",
    "        'ac_02_TS', 'ac_02_VS', 'ac_02_MC', 'ac_02_sand', 'ac_02_CN',\n",
    "        'ac_02_cod'\n",
    "    ]\n",
    "\n",
    "    df['date'] = pd.to_datetime(df['date'])\n",
    "    data_for_date = df[df['date'] == pd.to_datetime(date)][required_columns]\n",
    "    return data_for_date.values"
   ]
  },
  {
   "cell_type": "code",
   "execution_count": null,
   "metadata": {},
   "outputs": [],
   "source": []
  },
  {
   "cell_type": "code",
   "execution_count": null,
   "metadata": {},
   "outputs": [],
   "source": []
  },
  {
   "cell_type": "code",
   "execution_count": null,
   "metadata": {},
   "outputs": [],
   "source": [
    "input_data = get_values_by_date(df,\"2024-01-01\")\n",
    "prediction = model.predict(input_data)"
   ]
  },
  {
   "cell_type": "code",
   "execution_count": null,
   "metadata": {},
   "outputs": [],
   "source": [
    "prediction.tolist()"
   ]
  },
  {
   "cell_type": "code",
   "execution_count": null,
   "metadata": {},
   "outputs": [],
   "source": []
  },
  {
   "cell_type": "code",
   "execution_count": null,
   "metadata": {},
   "outputs": [],
   "source": []
  },
  {
   "cell_type": "code",
   "execution_count": 15,
   "metadata": {},
   "outputs": [],
   "source": [
    "def get_feature_values(df, feature, current_date):\n",
    "    current_date = pd.to_datetime(current_date)\n",
    "    df['date'] = pd.to_datetime(df['date'])\n",
    "    \n",
    "    past_values = df[(df['date'] < current_date) & (df['date'] >= current_date - pd.Timedelta(days=15))][['date', feature]]\n",
    "    current_value = df[df['date'] == current_date][['date', feature]]\n",
    "    future_values = df[(df['date'] > current_date) & (df['date'] <= current_date + pd.Timedelta(days=7))][['date', feature]]\n",
    "    \n",
    "    return past_values, current_value, future_values"
   ]
  },
  {
   "cell_type": "code",
   "execution_count": 16,
   "metadata": {},
   "outputs": [],
   "source": [
    "past, current, future = get_feature_values(df, 'digester_feed_TS', '2024-01-01')"
   ]
  },
  {
   "cell_type": "code",
   "execution_count": 26,
   "metadata": {},
   "outputs": [],
   "source": [
    "future_list = future[\"digester_feed_TS\"].tolist()"
   ]
  },
  {
   "cell_type": "code",
   "execution_count": 27,
   "metadata": {},
   "outputs": [
    {
     "data": {
      "text/plain": [
       "[7.99, 12.17, 9.44, 11.08, 7.38, 8.562039660056657, 8.01]"
      ]
     },
     "execution_count": 27,
     "metadata": {},
     "output_type": "execute_result"
    }
   ],
   "source": [
    "future_list"
   ]
  },
  {
   "cell_type": "code",
   "execution_count": null,
   "metadata": {},
   "outputs": [],
   "source": []
  }
 ],
 "metadata": {
  "kernelspec": {
   "display_name": "Python 3",
   "language": "python",
   "name": "python3"
  },
  "language_info": {
   "codemirror_mode": {
    "name": "ipython",
    "version": 3
   },
   "file_extension": ".py",
   "mimetype": "text/x-python",
   "name": "python",
   "nbconvert_exporter": "python",
   "pygments_lexer": "ipython3",
   "version": "3.13.2"
  }
 },
 "nbformat": 4,
 "nbformat_minor": 2
}
